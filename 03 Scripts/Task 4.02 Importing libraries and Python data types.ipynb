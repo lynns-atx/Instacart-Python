{
 "cells": [
  {
   "cell_type": "markdown",
   "id": "ec35561a",
   "metadata": {},
   "source": [
    "# 01. Importing libraries"
   ]
  },
  {
   "cell_type": "code",
   "execution_count": 1,
   "id": "fbdaccbe",
   "metadata": {},
   "outputs": [],
   "source": [
    "# Import libraries\n",
    "import pandas as pd\n",
    "import numpy as np\n",
    "import os"
   ]
  },
  {
   "cell_type": "markdown",
   "id": "acf76938",
   "metadata": {},
   "source": [
    "# 02. Data Types"
   ]
  },
  {
   "cell_type": "code",
   "execution_count": 2,
   "id": "469f9d29",
   "metadata": {},
   "outputs": [],
   "source": [
    "x = 25"
   ]
  },
  {
   "cell_type": "code",
   "execution_count": 3,
   "id": "5a929ab8",
   "metadata": {},
   "outputs": [],
   "source": [
    "y = 10"
   ]
  },
  {
   "cell_type": "code",
   "execution_count": 4,
   "id": "e1994453",
   "metadata": {},
   "outputs": [
    {
     "data": {
      "text/plain": [
       "100"
      ]
     },
     "execution_count": 4,
     "metadata": {},
     "output_type": "execute_result"
    }
   ],
   "source": [
    "125 - x"
   ]
  },
  {
   "cell_type": "code",
   "execution_count": 5,
   "id": "f9640a24",
   "metadata": {},
   "outputs": [
    {
     "data": {
      "text/plain": [
       "100"
      ]
     },
     "execution_count": 5,
     "metadata": {},
     "output_type": "execute_result"
    }
   ],
   "source": [
    "x + 75"
   ]
  },
  {
   "cell_type": "code",
   "execution_count": 6,
   "id": "d60bf82a",
   "metadata": {},
   "outputs": [
    {
     "data": {
      "text/plain": [
       "100"
      ]
     },
     "execution_count": 6,
     "metadata": {},
     "output_type": "execute_result"
    }
   ],
   "source": [
    "y + 90"
   ]
  },
  {
   "cell_type": "code",
   "execution_count": 7,
   "id": "414e0e63",
   "metadata": {},
   "outputs": [],
   "source": [
    "a = 7.2"
   ]
  },
  {
   "cell_type": "code",
   "execution_count": 8,
   "id": "ec879f78",
   "metadata": {},
   "outputs": [],
   "source": [
    "b = 563.228"
   ]
  },
  {
   "cell_type": "code",
   "execution_count": 9,
   "id": "ee5cb96f",
   "metadata": {},
   "outputs": [
    {
     "data": {
      "text/plain": [
       "78.22611111111111"
      ]
     },
     "execution_count": 9,
     "metadata": {},
     "output_type": "execute_result"
    }
   ],
   "source": [
    "b / a "
   ]
  },
  {
   "cell_type": "code",
   "execution_count": 14,
   "id": "cf004496",
   "metadata": {},
   "outputs": [],
   "source": [
    "f = 'fl'"
   ]
  },
  {
   "cell_type": "code",
   "execution_count": 16,
   "id": "2ed51855",
   "metadata": {},
   "outputs": [],
   "source": [
    "g = 'ow'"
   ]
  },
  {
   "cell_type": "code",
   "execution_count": 15,
   "id": "7ed6164a",
   "metadata": {},
   "outputs": [],
   "source": [
    "h = 'er'"
   ]
  },
  {
   "cell_type": "code",
   "execution_count": 17,
   "id": "b9f536ee",
   "metadata": {},
   "outputs": [
    {
     "data": {
      "text/plain": [
       "'flower'"
      ]
     },
     "execution_count": 17,
     "metadata": {},
     "output_type": "execute_result"
    }
   ],
   "source": [
    "f + g + h"
   ]
  },
  {
   "cell_type": "code",
   "execution_count": 10,
   "id": "d370efa3",
   "metadata": {},
   "outputs": [],
   "source": [
    "c = \"Hello, \""
   ]
  },
  {
   "cell_type": "code",
   "execution_count": 11,
   "id": "2dcf2ff1",
   "metadata": {},
   "outputs": [],
   "source": [
    "d = 'I am '"
   ]
  },
  {
   "cell_type": "code",
   "execution_count": 12,
   "id": "4c8265f9",
   "metadata": {},
   "outputs": [],
   "source": [
    "e = 'Lynnsey.'"
   ]
  },
  {
   "cell_type": "code",
   "execution_count": 13,
   "id": "7a7d52a1",
   "metadata": {},
   "outputs": [
    {
     "data": {
      "text/plain": [
       "'Hello, I am Lynnsey.'"
      ]
     },
     "execution_count": 13,
     "metadata": {},
     "output_type": "execute_result"
    }
   ],
   "source": [
    "c + d + e"
   ]
  },
  {
   "cell_type": "code",
   "execution_count": 18,
   "id": "56b451f2",
   "metadata": {},
   "outputs": [],
   "source": [
    "i = 'How '"
   ]
  },
  {
   "cell_type": "code",
   "execution_count": 19,
   "id": "50d2bfde",
   "metadata": {},
   "outputs": [],
   "source": [
    "j = 'are '"
   ]
  },
  {
   "cell_type": "code",
   "execution_count": 20,
   "id": "25670db2",
   "metadata": {},
   "outputs": [],
   "source": [
    "k = 'you?'"
   ]
  },
  {
   "cell_type": "code",
   "execution_count": 21,
   "id": "254a1e0b",
   "metadata": {},
   "outputs": [
    {
     "data": {
      "text/plain": [
       "'How are you?'"
      ]
     },
     "execution_count": 21,
     "metadata": {},
     "output_type": "execute_result"
    }
   ],
   "source": [
    "i + j + k"
   ]
  },
  {
   "cell_type": "code",
   "execution_count": 3,
   "id": "d0d9dac0",
   "metadata": {},
   "outputs": [],
   "source": [
    "m = 'I am great! '"
   ]
  },
  {
   "cell_type": "code",
   "execution_count": 4,
   "id": "77611ce0",
   "metadata": {},
   "outputs": [
    {
     "data": {
      "text/plain": [
       "'I am great! I am great! I am great! I am great! I am great! I am great! I am great! I am great! I am great! I am great! I am great! I am great! I am great! I am great! I am great! I am great! I am great! I am great! I am great! I am great! I am great! I am great! I am great! I am great! I am great! I am great! I am great! I am great! I am great! I am great! I am great! I am great! I am great! I am great! I am great! I am great! I am great! I am great! I am great! I am great! I am great! I am great! I am great! I am great! I am great! I am great! I am great! I am great! I am great! I am great! I am great! I am great! I am great! I am great! I am great! I am great! I am great! I am great! I am great! I am great! I am great! I am great! I am great! I am great! I am great! I am great! I am great! I am great! I am great! I am great! I am great! I am great! I am great! I am great! I am great! I am great! I am great! I am great! I am great! I am great! I am great! I am great! I am great! I am great! I am great! I am great! I am great! I am great! I am great! I am great! I am great! I am great! I am great! I am great! I am great! I am great! I am great! I am great! I am great! I am great! '"
      ]
     },
     "execution_count": 4,
     "metadata": {},
     "output_type": "execute_result"
    }
   ],
   "source": [
    "m * 100"
   ]
  },
  {
   "cell_type": "code",
   "execution_count": null,
   "id": "35f08d13",
   "metadata": {},
   "outputs": [],
   "source": []
  }
 ],
 "metadata": {
  "kernelspec": {
   "display_name": "Python 3 (ipykernel)",
   "language": "python",
   "name": "python3"
  },
  "language_info": {
   "codemirror_mode": {
    "name": "ipython",
    "version": 3
   },
   "file_extension": ".py",
   "mimetype": "text/x-python",
   "name": "python",
   "nbconvert_exporter": "python",
   "pygments_lexer": "ipython3",
   "version": "3.11.3"
  }
 },
 "nbformat": 4,
 "nbformat_minor": 5
}
