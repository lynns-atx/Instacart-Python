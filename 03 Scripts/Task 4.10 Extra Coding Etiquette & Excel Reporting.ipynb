{
 "cells": [
  {
   "cell_type": "markdown",
   "id": "f0d18bae",
   "metadata": {},
   "source": [
    "# --------------Table of Contents----------------\n",
    "## 1. Import libraries and data\n",
    "## 2. Find the order frequency for each department"
   ]
  },
  {
   "cell_type": "markdown",
   "id": "e7ead911",
   "metadata": {},
   "source": [
    "# -------------Questions---------------------"
   ]
  },
  {
   "cell_type": "markdown",
   "id": "2dfc57aa",
   "metadata": {},
   "source": [
    "## 1. Import libraries and data"
   ]
  },
  {
   "cell_type": "code",
   "execution_count": 1,
   "id": "094fdaa7",
   "metadata": {},
   "outputs": [],
   "source": [
    "# Import libraries\n",
    "\n",
    "import pandas as pd\n",
    "import numpy as np\n",
    "import os\n",
    "import matplotlib.pyplot as plt\n",
    "import seaborn as sns\n",
    "import scipy"
   ]
  },
  {
   "cell_type": "code",
   "execution_count": 2,
   "id": "0f2b3276",
   "metadata": {},
   "outputs": [],
   "source": [
    "# Path shortcut\n",
    "\n",
    "path = r'/Users/lynnsey/Desktop/Bootcamp/Tasks/Immersion/Task 4/07-20-2023 Instacart Basket Analysis'"
   ]
  },
  {
   "cell_type": "code",
   "execution_count": 3,
   "id": "443d1cc2",
   "metadata": {},
   "outputs": [],
   "source": [
    "# Import data\n",
    "\n",
    "all = pd.read_pickle(os.path.join(path, '02 Data', 'Prepared Data', 'orders_products_customers_merged_V4.pkl'))"
   ]
  },
  {
   "cell_type": "code",
   "execution_count": 7,
   "id": "c53cd46a",
   "metadata": {},
   "outputs": [
    {
     "data": {
      "text/html": [
       "<div>\n",
       "<style scoped>\n",
       "    .dataframe tbody tr th:only-of-type {\n",
       "        vertical-align: middle;\n",
       "    }\n",
       "\n",
       "    .dataframe tbody tr th {\n",
       "        vertical-align: top;\n",
       "    }\n",
       "\n",
       "    .dataframe thead th {\n",
       "        text-align: right;\n",
       "    }\n",
       "</style>\n",
       "<table border=\"1\" class=\"dataframe\">\n",
       "  <thead>\n",
       "    <tr style=\"text-align: right;\">\n",
       "      <th></th>\n",
       "      <th>order_id</th>\n",
       "      <th>user_id</th>\n",
       "      <th>order_number</th>\n",
       "      <th>orders_day_of_week</th>\n",
       "      <th>time_ordered</th>\n",
       "      <th>days_since_prior_order</th>\n",
       "      <th>product_id</th>\n",
       "      <th>add_to_cart_order</th>\n",
       "      <th>reordered</th>\n",
       "      <th>product_name</th>\n",
       "      <th>...</th>\n",
       "      <th>marital_status</th>\n",
       "      <th>income</th>\n",
       "      <th>region</th>\n",
       "      <th>type_spender</th>\n",
       "      <th>age_group</th>\n",
       "      <th>age_range</th>\n",
       "      <th>parent</th>\n",
       "      <th>income_range</th>\n",
       "      <th>department_group</th>\n",
       "      <th>user_profile</th>\n",
       "    </tr>\n",
       "  </thead>\n",
       "  <tbody>\n",
       "    <tr>\n",
       "      <th>0</th>\n",
       "      <td>2539329</td>\n",
       "      <td>1</td>\n",
       "      <td>1</td>\n",
       "      <td>2</td>\n",
       "      <td>8</td>\n",
       "      <td>NaN</td>\n",
       "      <td>196</td>\n",
       "      <td>1</td>\n",
       "      <td>0</td>\n",
       "      <td>Soda</td>\n",
       "      <td>...</td>\n",
       "      <td>married</td>\n",
       "      <td>40423</td>\n",
       "      <td>South</td>\n",
       "      <td>not low spender</td>\n",
       "      <td>middle aged</td>\n",
       "      <td>middle aged</td>\n",
       "      <td>parent</td>\n",
       "      <td>low</td>\n",
       "      <td>drinks</td>\n",
       "      <td>middle-aged parent</td>\n",
       "    </tr>\n",
       "    <tr>\n",
       "      <th>1</th>\n",
       "      <td>2398795</td>\n",
       "      <td>1</td>\n",
       "      <td>2</td>\n",
       "      <td>3</td>\n",
       "      <td>7</td>\n",
       "      <td>15.0</td>\n",
       "      <td>196</td>\n",
       "      <td>1</td>\n",
       "      <td>1</td>\n",
       "      <td>Soda</td>\n",
       "      <td>...</td>\n",
       "      <td>married</td>\n",
       "      <td>40423</td>\n",
       "      <td>South</td>\n",
       "      <td>not low spender</td>\n",
       "      <td>middle aged</td>\n",
       "      <td>middle aged</td>\n",
       "      <td>parent</td>\n",
       "      <td>low</td>\n",
       "      <td>drinks</td>\n",
       "      <td>middle-aged parent</td>\n",
       "    </tr>\n",
       "    <tr>\n",
       "      <th>2</th>\n",
       "      <td>473747</td>\n",
       "      <td>1</td>\n",
       "      <td>3</td>\n",
       "      <td>3</td>\n",
       "      <td>12</td>\n",
       "      <td>21.0</td>\n",
       "      <td>196</td>\n",
       "      <td>1</td>\n",
       "      <td>1</td>\n",
       "      <td>Soda</td>\n",
       "      <td>...</td>\n",
       "      <td>married</td>\n",
       "      <td>40423</td>\n",
       "      <td>South</td>\n",
       "      <td>not low spender</td>\n",
       "      <td>middle aged</td>\n",
       "      <td>middle aged</td>\n",
       "      <td>parent</td>\n",
       "      <td>low</td>\n",
       "      <td>drinks</td>\n",
       "      <td>middle-aged parent</td>\n",
       "    </tr>\n",
       "    <tr>\n",
       "      <th>3</th>\n",
       "      <td>2254736</td>\n",
       "      <td>1</td>\n",
       "      <td>4</td>\n",
       "      <td>4</td>\n",
       "      <td>7</td>\n",
       "      <td>29.0</td>\n",
       "      <td>196</td>\n",
       "      <td>1</td>\n",
       "      <td>1</td>\n",
       "      <td>Soda</td>\n",
       "      <td>...</td>\n",
       "      <td>married</td>\n",
       "      <td>40423</td>\n",
       "      <td>South</td>\n",
       "      <td>not low spender</td>\n",
       "      <td>middle aged</td>\n",
       "      <td>middle aged</td>\n",
       "      <td>parent</td>\n",
       "      <td>low</td>\n",
       "      <td>drinks</td>\n",
       "      <td>middle-aged parent</td>\n",
       "    </tr>\n",
       "    <tr>\n",
       "      <th>4</th>\n",
       "      <td>431534</td>\n",
       "      <td>1</td>\n",
       "      <td>5</td>\n",
       "      <td>4</td>\n",
       "      <td>15</td>\n",
       "      <td>28.0</td>\n",
       "      <td>196</td>\n",
       "      <td>1</td>\n",
       "      <td>1</td>\n",
       "      <td>Soda</td>\n",
       "      <td>...</td>\n",
       "      <td>married</td>\n",
       "      <td>40423</td>\n",
       "      <td>South</td>\n",
       "      <td>not low spender</td>\n",
       "      <td>middle aged</td>\n",
       "      <td>middle aged</td>\n",
       "      <td>parent</td>\n",
       "      <td>low</td>\n",
       "      <td>drinks</td>\n",
       "      <td>middle-aged parent</td>\n",
       "    </tr>\n",
       "  </tbody>\n",
       "</table>\n",
       "<p>5 rows × 37 columns</p>\n",
       "</div>"
      ],
      "text/plain": [
       "  order_id user_id  order_number  orders_day_of_week  time_ordered  \\\n",
       "0  2539329       1             1                   2             8   \n",
       "1  2398795       1             2                   3             7   \n",
       "2   473747       1             3                   3            12   \n",
       "3  2254736       1             4                   4             7   \n",
       "4   431534       1             5                   4            15   \n",
       "\n",
       "   days_since_prior_order product_id  add_to_cart_order  reordered  \\\n",
       "0                     NaN        196                  1          0   \n",
       "1                    15.0        196                  1          1   \n",
       "2                    21.0        196                  1          1   \n",
       "3                    29.0        196                  1          1   \n",
       "4                    28.0        196                  1          1   \n",
       "\n",
       "  product_name  ... marital_status income  region     type_spender  \\\n",
       "0         Soda  ...        married  40423   South  not low spender   \n",
       "1         Soda  ...        married  40423   South  not low spender   \n",
       "2         Soda  ...        married  40423   South  not low spender   \n",
       "3         Soda  ...        married  40423   South  not low spender   \n",
       "4         Soda  ...        married  40423   South  not low spender   \n",
       "\n",
       "     age_group    age_range  parent income_range  department_group  \\\n",
       "0  middle aged  middle aged  parent          low            drinks   \n",
       "1  middle aged  middle aged  parent          low            drinks   \n",
       "2  middle aged  middle aged  parent          low            drinks   \n",
       "3  middle aged  middle aged  parent          low            drinks   \n",
       "4  middle aged  middle aged  parent          low            drinks   \n",
       "\n",
       "         user_profile  \n",
       "0  middle-aged parent  \n",
       "1  middle-aged parent  \n",
       "2  middle-aged parent  \n",
       "3  middle-aged parent  \n",
       "4  middle-aged parent  \n",
       "\n",
       "[5 rows x 37 columns]"
      ]
     },
     "execution_count": 7,
     "metadata": {},
     "output_type": "execute_result"
    }
   ],
   "source": [
    "# Check data \n",
    "\n",
    "all.head()"
   ]
  },
  {
   "cell_type": "code",
   "execution_count": 8,
   "id": "1c367643",
   "metadata": {},
   "outputs": [
    {
     "data": {
      "text/plain": [
       "(30964564, 37)"
      ]
     },
     "execution_count": 8,
     "metadata": {},
     "output_type": "execute_result"
    }
   ],
   "source": [
    "all.shape"
   ]
  },
  {
   "cell_type": "code",
   "execution_count": 9,
   "id": "8a0547ed",
   "metadata": {},
   "outputs": [
    {
     "data": {
      "text/plain": [
       "4     9079273\n",
       "16    5177182\n",
       "19    2766406\n",
       "7     2571901\n",
       "1     2121731\n",
       "13    1782705\n",
       "3     1120828\n",
       "15    1012074\n",
       "20    1003834\n",
       "9      822136\n",
       "17     699857\n",
       "12     674781\n",
       "14     670850\n",
       "11     424306\n",
       "18     410392\n",
       "6      255991\n",
       "5      144627\n",
       "8       93060\n",
       "21      64768\n",
       "2       34411\n",
       "10      33451\n",
       "Name: department_id, dtype: int64"
      ]
     },
     "execution_count": 9,
     "metadata": {},
     "output_type": "execute_result"
    }
   ],
   "source": [
    "all['department_id'].value_counts(dropna = False)"
   ]
  },
  {
   "cell_type": "code",
   "execution_count": 14,
   "id": "ba690ba3",
   "metadata": {},
   "outputs": [
    {
     "data": {
      "image/png": "[encoded data removed]",
      "text/plain": [
       "<Figure size 1500x1000 with 1 Axes>"
      ]
     },
     "metadata": {},
     "output_type": "display_data"
    }
   ],
   "source": [
    "# Make a bar chart of the frequency of orders in each department\n",
    "\n",
    "ax = all['department_id'].value_counts().plot(kind='bar', title =\"Orders in Each Department\", figsize=(15, 10), legend=True, fontsize=12)\n",
    "ax.set_xlabel(\"Department\", fontsize=12)\n",
    "ax.set_ylabel(\"Orders\", fontsize=12)\n",
    "plt.show()"
   ]
  },
  {
   "cell_type": "code",
   "execution_count": 4,
   "id": "9b8141ef",
   "metadata": {},
   "outputs": [],
   "source": [
    "small = pd.read_pickle(os.path.join(path, '02 Data', 'Prepared Data', 'small_subset_all.pkl'))"
   ]
  },
  {
   "cell_type": "code",
   "execution_count": 4,
   "id": "8f832631",
   "metadata": {},
   "outputs": [],
   "source": [
    "# Create a sample of the population\n",
    "\n",
    "# Create a list holding True/False values to the test np.random.rant() <+ 0.7\n",
    "\n",
    "np.random.seed(4)\n",
    "dev = np.random.rand(len(all)) <= 0.7"
   ]
  },
  {
   "cell_type": "code",
   "execution_count": 5,
   "id": "46b3d5af",
   "metadata": {},
   "outputs": [],
   "source": [
    "# Store 70% of the sample in the dataframe big\n",
    "\n",
    "big = all[dev]"
   ]
  },
  {
   "cell_type": "code",
   "execution_count": 6,
   "id": "ef95e009",
   "metadata": {},
   "outputs": [],
   "source": [
    "# Store 30% of the sample in the data frame small\n",
    "\n",
    "small = all[~dev]"
   ]
  },
  {
   "cell_type": "code",
   "execution_count": 7,
   "id": "33196b1c",
   "metadata": {},
   "outputs": [
    {
     "data": {
      "text/plain": [
       "30964564"
      ]
     },
     "execution_count": 7,
     "metadata": {},
     "output_type": "execute_result"
    }
   ],
   "source": [
    "# Check numbers to see if they are correct\n",
    "\n",
    "len(all)"
   ]
  },
  {
   "cell_type": "code",
   "execution_count": 8,
   "id": "948e7b72",
   "metadata": {},
   "outputs": [
    {
     "data": {
      "text/plain": [
       "30964564"
      ]
     },
     "execution_count": 8,
     "metadata": {},
     "output_type": "execute_result"
    }
   ],
   "source": [
    "len(big) + len(small)"
   ]
  },
  {
   "cell_type": "code",
   "execution_count": 4,
   "id": "46fbd9be",
   "metadata": {},
   "outputs": [],
   "source": [
    "# Take sample of just columns of interest\n",
    "\n",
    "price_user = all[['prices', 'user_profile']]"
   ]
  },
  {
   "cell_type": "code",
   "execution_count": 5,
   "id": "5764b4dd",
   "metadata": {},
   "outputs": [
    {
     "data": {
      "text/plain": [
       "Text(0.5, 1.0, 'Price of Items Ordered Based on User Profile')"
      ]
     },
     "execution_count": 5,
     "metadata": {},
     "output_type": "execute_result"
    },
    {
     "data": {
      "image/png": "[encoded data removed]",
      "text/plain": [
       "<Figure size 640x480 with 1 Axes>"
      ]
     },
     "metadata": {},
     "output_type": "display_data"
    }
   ],
   "source": [
    "# Create bar chart\n",
    "\n",
    "sns.barplot(x='user_profile', y='prices',data=price_user)\n",
    "plt.title(\"Price of Items Ordered Based on User Profile\")"
   ]
  },
  {
   "cell_type": "code",
   "execution_count": 7,
   "id": "a408ad27",
   "metadata": {},
   "outputs": [
    {
     "data": {
      "text/html": [
       "<div>\n",
       "<style scoped>\n",
       "    .dataframe tbody tr th:only-of-type {\n",
       "        vertical-align: middle;\n",
       "    }\n",
       "\n",
       "    .dataframe tbody tr th {\n",
       "        vertical-align: top;\n",
       "    }\n",
       "\n",
       "    .dataframe thead tr th {\n",
       "        text-align: left;\n",
       "    }\n",
       "\n",
       "    .dataframe thead tr:last-of-type th {\n",
       "        text-align: right;\n",
       "    }\n",
       "</style>\n",
       "<table border=\"1\" class=\"dataframe\">\n",
       "  <thead>\n",
       "    <tr>\n",
       "      <th></th>\n",
       "      <th>prices</th>\n",
       "    </tr>\n",
       "    <tr>\n",
       "      <th></th>\n",
       "      <th>mean</th>\n",
       "    </tr>\n",
       "    <tr>\n",
       "      <th>user_profile</th>\n",
       "      <th></th>\n",
       "    </tr>\n",
       "  </thead>\n",
       "  <tbody>\n",
       "    <tr>\n",
       "      <th>mature no children</th>\n",
       "      <td>7.800867</td>\n",
       "    </tr>\n",
       "    <tr>\n",
       "      <th>mature parent</th>\n",
       "      <td>7.794038</td>\n",
       "    </tr>\n",
       "    <tr>\n",
       "      <th>middle-aged no children</th>\n",
       "      <td>7.789119</td>\n",
       "    </tr>\n",
       "    <tr>\n",
       "      <th>middle-aged parent</th>\n",
       "      <td>7.789657</td>\n",
       "    </tr>\n",
       "    <tr>\n",
       "      <th>young no children</th>\n",
       "      <td>7.769843</td>\n",
       "    </tr>\n",
       "    <tr>\n",
       "      <th>young parent</th>\n",
       "      <td>7.784878</td>\n",
       "    </tr>\n",
       "  </tbody>\n",
       "</table>\n",
       "</div>"
      ],
      "text/plain": [
       "                           prices\n",
       "                             mean\n",
       "user_profile                     \n",
       "mature no children       7.800867\n",
       "mature parent            7.794038\n",
       "middle-aged no children  7.789119\n",
       "middle-aged parent       7.789657\n",
       "young no children        7.769843\n",
       "young parent             7.784878"
      ]
     },
     "execution_count": 7,
     "metadata": {},
     "output_type": "execute_result"
    }
   ],
   "source": [
    "all.groupby('user_profile').agg({'prices': ['mean']})"
   ]
  },
  {
   "cell_type": "code",
   "execution_count": null,
   "id": "e6746736",
   "metadata": {},
   "outputs": [],
   "source": []
  }
 ],
 "metadata": {
  "kernelspec": {
   "display_name": "Python 3 (ipykernel)",
   "language": "python",
   "name": "python3"
  },
  "language_info": {
   "codemirror_mode": {
    "name": "ipython",
    "version": 3
   },
   "file_extension": ".py",
   "mimetype": "text/x-python",
   "name": "python",
   "nbconvert_exporter": "python",
   "pygments_lexer": "ipython3",
   "version": "3.11.3"
  }
 },
 "nbformat": 4,
 "nbformat_minor": 5
}
