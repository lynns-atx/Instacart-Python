{
 "cells": [
  {
   "cell_type": "markdown",
   "id": "2134e595",
   "metadata": {},
   "source": [
    "## 3. Import libraries & customer data"
   ]
  },
  {
   "cell_type": "code",
   "execution_count": 1,
   "id": "40bfb340",
   "metadata": {},
   "outputs": [],
   "source": [
    "# Import libraries\n",
    "\n",
    "import pandas as pd\n",
    "import numpy as np\n",
    "import os\n",
    "import matplotlib.pyplot as plt\n",
    "import seaborn as sns\n",
    "import scipy"
   ]
  },
  {
   "cell_type": "code",
   "execution_count": 2,
   "id": "88925615",
   "metadata": {},
   "outputs": [],
   "source": [
    "# Path shortcut\n",
    "\n",
    "path = r'/Users/lynnsey/Desktop/Bootcamp/Tasks/Immersion/Task 4/07-20-2023 Instacart Basket Analysis'"
   ]
  },
  {
   "cell_type": "code",
   "execution_count": 3,
   "id": "034bf8c3",
   "metadata": {},
   "outputs": [],
   "source": [
    "# Import prepared data\n",
    "\n",
    "ords_prods_merge = pd.read_pickle(os.path.join(path, '02 Data', 'Prepared Data', 'orders_products_merged_v4.pkl'))"
   ]
  },
  {
   "cell_type": "code",
   "execution_count": 5,
   "id": "c2f62a80",
   "metadata": {},
   "outputs": [],
   "source": [
    "ords_prods_merge = ords_prods_merge.drop(columns =['_merge'])"
   ]
  },
  {
   "cell_type": "code",
   "execution_count": 7,
   "id": "5561ed32",
   "metadata": {},
   "outputs": [],
   "source": [
    "#Export data\n",
    "\n",
    "ords_prods_merge.to_pickle(os.path.join(path, '02 Data','Prepared Data', 'orders_products_merged_V5.pkl'))"
   ]
  },
  {
   "cell_type": "code",
   "execution_count": null,
   "id": "95d31a8b",
   "metadata": {},
   "outputs": [],
   "source": []
  }
 ],
 "metadata": {
  "kernelspec": {
   "display_name": "Python 3 (ipykernel)",
   "language": "python",
   "name": "python3"
  },
  "language_info": {
   "codemirror_mode": {
    "name": "ipython",
    "version": 3
   },
   "file_extension": ".py",
   "mimetype": "text/x-python",
   "name": "python",
   "nbconvert_exporter": "python",
   "pygments_lexer": "ipython3",
   "version": "3.11.3"
  }
 },
 "nbformat": 4,
 "nbformat_minor": 5
}
